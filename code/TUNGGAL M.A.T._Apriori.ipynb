{
 "cells": [
  {
   "cell_type": "markdown",
   "metadata": {},
   "source": [
    "# APRORI\n",
    "***\n",
    "# <center> Tunggal Manda Ary Triyono\n",
    "# ---------------------------------------------------------------------------------------------------------------"
   ]
  },
  {
   "cell_type": "markdown",
   "metadata": {},
   "source": [
    "# Input produk yang sudah dibeli customer"
   ]
  },
  {
   "cell_type": "code",
   "execution_count": 1,
   "metadata": {},
   "outputs": [],
   "source": [
    "PRODUCT = 'Soap'"
   ]
  },
  {
   "cell_type": "markdown",
   "metadata": {},
   "source": [
    "# Import Library"
   ]
  },
  {
   "cell_type": "code",
   "execution_count": 2,
   "metadata": {},
   "outputs": [],
   "source": [
    "import pandas as pd\n",
    "from apyori import apriori"
   ]
  },
  {
   "cell_type": "markdown",
   "metadata": {},
   "source": [
    "# Import Dataset"
   ]
  },
  {
   "cell_type": "code",
   "execution_count": 3,
   "metadata": {},
   "outputs": [
    {
     "data": {
      "text/html": [
       "<div>\n",
       "<style scoped>\n",
       "    .dataframe tbody tr th:only-of-type {\n",
       "        vertical-align: middle;\n",
       "    }\n",
       "\n",
       "    .dataframe tbody tr th {\n",
       "        vertical-align: top;\n",
       "    }\n",
       "\n",
       "    .dataframe thead th {\n",
       "        text-align: right;\n",
       "    }\n",
       "</style>\n",
       "<table border=\"1\" class=\"dataframe\">\n",
       "  <thead>\n",
       "    <tr style=\"text-align: right;\">\n",
       "      <th></th>\n",
       "      <th>HP</th>\n",
       "      <th>Racket</th>\n",
       "      <th>Watch</th>\n",
       "    </tr>\n",
       "  </thead>\n",
       "  <tbody>\n",
       "    <tr>\n",
       "      <th>0</th>\n",
       "      <td>HP</td>\n",
       "      <td>Camera</td>\n",
       "      <td>Watch</td>\n",
       "    </tr>\n",
       "    <tr>\n",
       "      <th>1</th>\n",
       "      <td>Watch</td>\n",
       "      <td>Camera</td>\n",
       "      <td>Music Pad</td>\n",
       "    </tr>\n",
       "    <tr>\n",
       "      <th>2</th>\n",
       "      <td>Camera</td>\n",
       "      <td>Watch</td>\n",
       "      <td>Mouse</td>\n",
       "    </tr>\n",
       "  </tbody>\n",
       "</table>\n",
       "</div>"
      ],
      "text/plain": [
       "       HP  Racket      Watch\n",
       "0      HP  Camera      Watch\n",
       "1   Watch  Camera  Music Pad\n",
       "2  Camera   Watch      Mouse"
      ]
     },
     "execution_count": 3,
     "metadata": {},
     "output_type": "execute_result"
    }
   ],
   "source": [
    "df = pd.read_csv('../data/form2.csv')\n",
    "df.head(3)"
   ]
  },
  {
   "cell_type": "markdown",
   "metadata": {},
   "source": [
    "# Menjadikan dataset menjadi format list"
   ]
  },
  {
   "cell_type": "code",
   "execution_count": 4,
   "metadata": {
    "scrolled": false
   },
   "outputs": [
    {
     "data": {
      "text/plain": [
       "[['HP', 'Camera', 'Watch'],\n",
       " ['Watch', 'Camera', 'Music Pad'],\n",
       " ['Camera', 'Watch', 'Mouse'],\n",
       " ['HP', 'Watch', 'Music Pad'],\n",
       " ['Watch', 'Racket', 'Camera'],\n",
       " ['HP', 'Camera', 'Watch'],\n",
       " ['Watch', 'Camera', 'Music Pad'],\n",
       " ['Racket', 'Soap', 'Guitar'],\n",
       " ['Racket', 'Camera', 'Guitar'],\n",
       " ['Camera', 'Bag', 'nan'],\n",
       " ['Music Pad', 'Guitar', 'Camera'],\n",
       " ['Camera', 'Watch', 'nan'],\n",
       " ['Guitar', 'Camera', 'Music Pad'],\n",
       " ['Camera', 'Watch', 'Music Pad'],\n",
       " ['Camera', 'Racket', 'Guitar'],\n",
       " ['Guitar', 'Camera', 'Watch'],\n",
       " ['Guitar', 'Watch', 'nan'],\n",
       " ['Camera', 'Watch', 'nan'],\n",
       " ['Soap', 'Bag', 'Guitar'],\n",
       " ['Router', 'Bag', 'nan'],\n",
       " ['Watch', 'Racket', 'Soap'],\n",
       " ['Music Pad', 'Soap', 'Watch'],\n",
       " ['Mouse', 'Camera', 'Soap']]"
      ]
     },
     "execution_count": 4,
     "metadata": {},
     "output_type": "execute_result"
    }
   ],
   "source": [
    "df_list = []\n",
    "for i in range(0, 23):\n",
    "    df_list.append([str(df.values[i,j]) for j in range(0,3)])\n",
    "\n",
    "df_list"
   ]
  },
  {
   "cell_type": "markdown",
   "metadata": {},
   "source": [
    "***\n",
    "Dataset sebelumnya berformat **dataframe**. untuk digunakan dalam proses apriori menggunakan library apyori, dataset perlu diubah kedalam bentuk **list** agar hasilnya dapat diolah dengan mudah\n",
    "***"
   ]
  },
  {
   "cell_type": "markdown",
   "metadata": {},
   "source": [
    "# Menjalankan apriori"
   ]
  },
  {
   "cell_type": "code",
   "execution_count": 5,
   "metadata": {},
   "outputs": [],
   "source": [
    "frequent_items = apriori(df_list, min_support=0.05, min_confidence=0.05, min_lift=1.5)"
   ]
  },
  {
   "cell_type": "markdown",
   "metadata": {},
   "source": [
    "***\n",
    "Menjalankan algoritma apriori dengan nilai \n",
    "<br>**Support** : 0.03\n",
    "<br>**Confidence** : 0.05\n",
    "<br>**Lift** : 1.5\n",
    "<br>nilai ini dapat diubah-ubah. **semakin kecil** nilainya, **pasangan item** yang dihasilkan akan **semakin banyak**\n",
    "***"
   ]
  },
  {
   "cell_type": "markdown",
   "metadata": {},
   "source": [
    "# Menyimpan hasil apriori dalam list"
   ]
  },
  {
   "cell_type": "code",
   "execution_count": 6,
   "metadata": {
    "scrolled": false
   },
   "outputs": [
    {
     "data": {
      "text/plain": [
       "[RelationRecord(items=frozenset({'nan', 'Bag'}), support=0.08695652173913043, ordered_statistics=[OrderedStatistic(items_base=frozenset({'Bag'}), items_add=frozenset({'nan'}), confidence=0.6666666666666666, lift=3.0666666666666664), OrderedStatistic(items_base=frozenset({'nan'}), items_add=frozenset({'Bag'}), confidence=0.4, lift=3.066666666666667)]),\n",
       " RelationRecord(items=frozenset({'Racket', 'Guitar'}), support=0.13043478260869565, ordered_statistics=[OrderedStatistic(items_base=frozenset({'Guitar'}), items_add=frozenset({'Racket'}), confidence=0.375, lift=1.725), OrderedStatistic(items_base=frozenset({'Racket'}), items_add=frozenset({'Guitar'}), confidence=0.6, lift=1.725)]),\n",
       " RelationRecord(items=frozenset({'HP', 'Watch'}), support=0.13043478260869565, ordered_statistics=[OrderedStatistic(items_base=frozenset({'HP'}), items_add=frozenset({'Watch'}), confidence=1.0, lift=1.6428571428571428), OrderedStatistic(items_base=frozenset({'Watch'}), items_add=frozenset({'HP'}), confidence=0.21428571428571427, lift=1.6428571428571428)]),\n",
       " RelationRecord(items=frozenset({'Soap', 'Racket'}), support=0.08695652173913043, ordered_statistics=[OrderedStatistic(items_base=frozenset({'Racket'}), items_add=frozenset({'Soap'}), confidence=0.4, lift=1.84), OrderedStatistic(items_base=frozenset({'Soap'}), items_add=frozenset({'Racket'}), confidence=0.4, lift=1.84)]),\n",
       " RelationRecord(items=frozenset({'Racket', 'Camera', 'Guitar'}), support=0.08695652173913043, ordered_statistics=[OrderedStatistic(items_base=frozenset({'Camera', 'Guitar'}), items_add=frozenset({'Racket'}), confidence=0.4, lift=1.84), OrderedStatistic(items_base=frozenset({'Camera', 'Racket'}), items_add=frozenset({'Guitar'}), confidence=0.6666666666666666, lift=1.9166666666666665)]),\n",
       " RelationRecord(items=frozenset({'HP', 'Camera', 'Watch'}), support=0.08695652173913043, ordered_statistics=[OrderedStatistic(items_base=frozenset({'HP', 'Camera'}), items_add=frozenset({'Watch'}), confidence=1.0, lift=1.6428571428571428), OrderedStatistic(items_base=frozenset({'Camera', 'Watch'}), items_add=frozenset({'HP'}), confidence=0.2, lift=1.5333333333333334)])]"
      ]
     },
     "execution_count": 6,
     "metadata": {},
     "output_type": "execute_result"
    }
   ],
   "source": [
    "rules = list(frequent_items)\n",
    "rules"
   ]
  },
  {
   "cell_type": "markdown",
   "metadata": {},
   "source": [
    "***\n",
    "Hasilnya terlihat kurang rapi dan sulit dibaca sehingga perlu dirapikan menjadi berbentuk tabel(dataframe)\n",
    "***"
   ]
  },
  {
   "cell_type": "markdown",
   "metadata": {},
   "source": [
    "# Total rules yang dihasilkan"
   ]
  },
  {
   "cell_type": "code",
   "execution_count": 7,
   "metadata": {},
   "outputs": [
    {
     "data": {
      "text/plain": [
       "6"
      ]
     },
     "execution_count": 7,
     "metadata": {},
     "output_type": "execute_result"
    }
   ],
   "source": [
    "len(rules)"
   ]
  },
  {
   "cell_type": "markdown",
   "metadata": {},
   "source": [
    "***\n",
    "Pasangan Item yang dihasilkan pada apriori ini berjumlah 6\n",
    "***"
   ]
  },
  {
   "cell_type": "markdown",
   "metadata": {},
   "source": [
    "# Menampilkan hasil rules menjadi Dataframe"
   ]
  },
  {
   "cell_type": "code",
   "execution_count": 8,
   "metadata": {},
   "outputs": [
    {
     "data": {
      "text/html": [
       "<div>\n",
       "<style scoped>\n",
       "    .dataframe tbody tr th:only-of-type {\n",
       "        vertical-align: middle;\n",
       "    }\n",
       "\n",
       "    .dataframe tbody tr th {\n",
       "        vertical-align: top;\n",
       "    }\n",
       "\n",
       "    .dataframe thead th {\n",
       "        text-align: right;\n",
       "    }\n",
       "</style>\n",
       "<table border=\"1\" class=\"dataframe\">\n",
       "  <thead>\n",
       "    <tr style=\"text-align: right;\">\n",
       "      <th></th>\n",
       "      <th>barang1</th>\n",
       "      <th>barang2</th>\n",
       "      <th>support</th>\n",
       "      <th>confidence</th>\n",
       "      <th>lift</th>\n",
       "    </tr>\n",
       "  </thead>\n",
       "  <tbody>\n",
       "    <tr>\n",
       "      <th>0</th>\n",
       "      <td>nan</td>\n",
       "      <td>Bag</td>\n",
       "      <td>0.08695</td>\n",
       "      <td>0.66666</td>\n",
       "      <td>3.06666</td>\n",
       "    </tr>\n",
       "    <tr>\n",
       "      <th>1</th>\n",
       "      <td>Racket</td>\n",
       "      <td>Guitar</td>\n",
       "      <td>0.13043</td>\n",
       "      <td>0.375</td>\n",
       "      <td>1.725</td>\n",
       "    </tr>\n",
       "    <tr>\n",
       "      <th>2</th>\n",
       "      <td>HP</td>\n",
       "      <td>Watch</td>\n",
       "      <td>0.13043</td>\n",
       "      <td>1.0</td>\n",
       "      <td>1.64285</td>\n",
       "    </tr>\n",
       "    <tr>\n",
       "      <th>3</th>\n",
       "      <td>Soap</td>\n",
       "      <td>Racket</td>\n",
       "      <td>0.08695</td>\n",
       "      <td>0.4</td>\n",
       "      <td>1.84</td>\n",
       "    </tr>\n",
       "    <tr>\n",
       "      <th>4</th>\n",
       "      <td>Racket</td>\n",
       "      <td>Camera</td>\n",
       "      <td>0.08695</td>\n",
       "      <td>0.4</td>\n",
       "      <td>1.84</td>\n",
       "    </tr>\n",
       "    <tr>\n",
       "      <th>5</th>\n",
       "      <td>HP</td>\n",
       "      <td>Camera</td>\n",
       "      <td>0.08695</td>\n",
       "      <td>1.0</td>\n",
       "      <td>1.64285</td>\n",
       "    </tr>\n",
       "  </tbody>\n",
       "</table>\n",
       "</div>"
      ],
      "text/plain": [
       "  barang1 barang2  support confidence     lift\n",
       "0     nan     Bag  0.08695    0.66666  3.06666\n",
       "1  Racket  Guitar  0.13043      0.375    1.725\n",
       "2      HP   Watch  0.13043        1.0  1.64285\n",
       "3    Soap  Racket  0.08695        0.4     1.84\n",
       "4  Racket  Camera  0.08695        0.4     1.84\n",
       "5      HP  Camera  0.08695        1.0  1.64285"
      ]
     },
     "execution_count": 8,
     "metadata": {},
     "output_type": "execute_result"
    }
   ],
   "source": [
    "result = []\n",
    "for item in rules:\n",
    "    pair = item[0]\n",
    "    items = [x for x in pair]\n",
    "    \n",
    "    value0 = str(items[0])\n",
    "    value1 = str(items[1])\n",
    "    #second index of the inner list\n",
    "    value2 = str(item[1])[:7]\n",
    "    \n",
    "    value3 = str(item[2][0][2])[:7]\n",
    "    value4 = str(item[2][0][3])[:7]\n",
    "    \n",
    "    rows = (value0,value1,value2,value3,value4)\n",
    "    result.append(rows)\n",
    "col = ['barang1','barang2', 'support', 'confidence', 'lift']\n",
    "final_result = pd.DataFrame.from_records(result,columns = col)\n",
    "\n",
    "final_result"
   ]
  },
  {
   "cell_type": "markdown",
   "metadata": {},
   "source": [
    "***\n",
    "Data diatas adalah data ke 6 pasangan item yang dibeli pelanggan\n",
    "<br>\n",
    "<br>**Support** : seberapa sering itemset muncul di dataset\n",
    "<br>**confidence** : seberapa sering rules terbukti benar\n",
    "<br>**lift** : rasio dari confidence untuk persentase jika kejadian mengandung a maka mengandung b\n",
    "***"
   ]
  },
  {
   "cell_type": "markdown",
   "metadata": {},
   "source": [
    "# Hasil prediksi barang yang dibeli selanjutnya"
   ]
  },
  {
   "cell_type": "code",
   "execution_count": 9,
   "metadata": {},
   "outputs": [
    {
     "name": "stdout",
     "output_type": "stream",
     "text": [
      "Barang yang dibeli user setelah membeli Soap adalah :  ['Racket']\n"
     ]
    }
   ],
   "source": [
    "PREDICT = final_result.where(final_result['barang1']==PRODUCT)\n",
    "PREDICT = PREDICT.dropna().sort_values(by='confidence', ascending=False)\n",
    "a = PREDICT['barang2'].values\n",
    "print('Barang yang dibeli user setelah membeli', PRODUCT ,'adalah : ',a)"
   ]
  },
  {
   "cell_type": "markdown",
   "metadata": {},
   "source": [
    "# KESIMPULAN\n",
    "Algoritma **Apriori** digunakan untuk menentukan item yang dibeli selanjutnya oleh customer setelah customer membeli barang tertentu\n",
    "<br>Pada Case ini dimana user telah membeli soap maka prediksi barang yang selanjutnya dibeli oleh user adalah Racket. \n",
    "<br>itemset Soap dan Racket **support**nya adalah **0.08695**, artinya persentase kejadian Soap dan Racket dibeli adalah 8,695% \n",
    "<br>itemset Soap dan Racket **confidence**nya adalah **0.4**, artinya persentase kejadian user membeli Soap dan membeli Racket adalah 40%\n",
    "<br>itemset Soap dan Racket **lift**nya adalah **1.84**, artinya rasio kejadian user membeli Soap dan membeli Racket adalah 1.84 lebih banyak dibandingkan user hanya membeli Soap"
   ]
  }
 ],
 "metadata": {
  "kernelspec": {
   "display_name": "Python 3",
   "language": "python",
   "name": "python3"
  },
  "language_info": {
   "codemirror_mode": {
    "name": "ipython",
    "version": 3
   },
   "file_extension": ".py",
   "mimetype": "text/x-python",
   "name": "python",
   "nbconvert_exporter": "python",
   "pygments_lexer": "ipython3",
   "version": "3.6.9"
  }
 },
 "nbformat": 4,
 "nbformat_minor": 2
}
