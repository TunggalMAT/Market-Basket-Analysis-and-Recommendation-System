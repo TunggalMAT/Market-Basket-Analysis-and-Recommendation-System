{
 "cells": [
  {
   "cell_type": "markdown",
   "metadata": {},
   "source": [
    "# CONTENT BASED FILTERING \n",
    "***\n",
    "# <center> Tunggal Manda Ary Triyono\n",
    "# ---------------------------------------------------------------------------------------------------------------"
   ]
  },
  {
   "cell_type": "markdown",
   "metadata": {},
   "source": [
    "# Input movie yang dicari rekomendasi setelahnya"
   ]
  },
  {
   "cell_type": "code",
   "execution_count": 1,
   "metadata": {},
   "outputs": [],
   "source": [
    "USER_MOVIE = 'Ada Apa dengan Cinta 2'"
   ]
  },
  {
   "cell_type": "markdown",
   "metadata": {},
   "source": [
    "# Import Library"
   ]
  },
  {
   "cell_type": "code",
   "execution_count": 2,
   "metadata": {},
   "outputs": [],
   "source": [
    "import pandas as pd"
   ]
  },
  {
   "cell_type": "markdown",
   "metadata": {},
   "source": [
    "# Import Dataset"
   ]
  },
  {
   "cell_type": "code",
   "execution_count": 3,
   "metadata": {},
   "outputs": [
    {
     "data": {
      "text/html": [
       "<div>\n",
       "<style scoped>\n",
       "    .dataframe tbody tr th:only-of-type {\n",
       "        vertical-align: middle;\n",
       "    }\n",
       "\n",
       "    .dataframe tbody tr th {\n",
       "        vertical-align: top;\n",
       "    }\n",
       "\n",
       "    .dataframe thead th {\n",
       "        text-align: right;\n",
       "    }\n",
       "</style>\n",
       "<table border=\"1\" class=\"dataframe\">\n",
       "  <thead>\n",
       "    <tr style=\"text-align: right;\">\n",
       "      <th></th>\n",
       "      <th>movie</th>\n",
       "      <th>jenis</th>\n",
       "      <th>genre</th>\n",
       "      <th>rating</th>\n",
       "      <th>durasi</th>\n",
       "    </tr>\n",
       "  </thead>\n",
       "  <tbody>\n",
       "    <tr>\n",
       "      <th>0</th>\n",
       "      <td>Ada Apa dengan Cinta 2</td>\n",
       "      <td>indo</td>\n",
       "      <td>romance</td>\n",
       "      <td>4</td>\n",
       "      <td>60</td>\n",
       "    </tr>\n",
       "    <tr>\n",
       "      <th>1</th>\n",
       "      <td>Gundala</td>\n",
       "      <td>indo</td>\n",
       "      <td>action</td>\n",
       "      <td>3</td>\n",
       "      <td>100</td>\n",
       "    </tr>\n",
       "    <tr>\n",
       "      <th>2</th>\n",
       "      <td>Dilan 1991</td>\n",
       "      <td>indo</td>\n",
       "      <td>romance</td>\n",
       "      <td>5</td>\n",
       "      <td>90</td>\n",
       "    </tr>\n",
       "    <tr>\n",
       "      <th>3</th>\n",
       "      <td>Bumi Manusia</td>\n",
       "      <td>indo</td>\n",
       "      <td>romance</td>\n",
       "      <td>5</td>\n",
       "      <td>60</td>\n",
       "    </tr>\n",
       "    <tr>\n",
       "      <th>4</th>\n",
       "      <td>Dua Garis Biru</td>\n",
       "      <td>indo</td>\n",
       "      <td>romance</td>\n",
       "      <td>1</td>\n",
       "      <td>80</td>\n",
       "    </tr>\n",
       "  </tbody>\n",
       "</table>\n",
       "</div>"
      ],
      "text/plain": [
       "                    movie jenis    genre  rating  durasi\n",
       "0  Ada Apa dengan Cinta 2  indo  romance       4      60\n",
       "1                 Gundala  indo   action       3     100\n",
       "2              Dilan 1991  indo  romance       5      90\n",
       "3            Bumi Manusia  indo  romance       5      60\n",
       "4          Dua Garis Biru  indo  romance       1      80"
      ]
     },
     "execution_count": 3,
     "metadata": {},
     "output_type": "execute_result"
    }
   ],
   "source": [
    "df = pd.read_csv('../data/apa.csv')\n",
    "df.head()"
   ]
  },
  {
   "cell_type": "code",
   "execution_count": 4,
   "metadata": {},
   "outputs": [],
   "source": [
    "film = list(df.movie.values)"
   ]
  },
  {
   "cell_type": "markdown",
   "metadata": {},
   "source": [
    "# Menjadikan nama movie sebagai index"
   ]
  },
  {
   "cell_type": "code",
   "execution_count": 5,
   "metadata": {},
   "outputs": [
    {
     "data": {
      "text/html": [
       "<div>\n",
       "<style scoped>\n",
       "    .dataframe tbody tr th:only-of-type {\n",
       "        vertical-align: middle;\n",
       "    }\n",
       "\n",
       "    .dataframe tbody tr th {\n",
       "        vertical-align: top;\n",
       "    }\n",
       "\n",
       "    .dataframe thead th {\n",
       "        text-align: right;\n",
       "    }\n",
       "</style>\n",
       "<table border=\"1\" class=\"dataframe\">\n",
       "  <thead>\n",
       "    <tr style=\"text-align: right;\">\n",
       "      <th></th>\n",
       "      <th>jenis</th>\n",
       "      <th>genre</th>\n",
       "      <th>rating</th>\n",
       "      <th>durasi</th>\n",
       "    </tr>\n",
       "    <tr>\n",
       "      <th>movie</th>\n",
       "      <th></th>\n",
       "      <th></th>\n",
       "      <th></th>\n",
       "      <th></th>\n",
       "    </tr>\n",
       "  </thead>\n",
       "  <tbody>\n",
       "    <tr>\n",
       "      <th>Ada Apa dengan Cinta 2</th>\n",
       "      <td>indo</td>\n",
       "      <td>romance</td>\n",
       "      <td>4</td>\n",
       "      <td>60</td>\n",
       "    </tr>\n",
       "    <tr>\n",
       "      <th>Gundala</th>\n",
       "      <td>indo</td>\n",
       "      <td>action</td>\n",
       "      <td>3</td>\n",
       "      <td>100</td>\n",
       "    </tr>\n",
       "    <tr>\n",
       "      <th>Dilan 1991</th>\n",
       "      <td>indo</td>\n",
       "      <td>romance</td>\n",
       "      <td>5</td>\n",
       "      <td>90</td>\n",
       "    </tr>\n",
       "    <tr>\n",
       "      <th>Bumi Manusia</th>\n",
       "      <td>indo</td>\n",
       "      <td>romance</td>\n",
       "      <td>5</td>\n",
       "      <td>60</td>\n",
       "    </tr>\n",
       "    <tr>\n",
       "      <th>Dua Garis Biru</th>\n",
       "      <td>indo</td>\n",
       "      <td>romance</td>\n",
       "      <td>1</td>\n",
       "      <td>80</td>\n",
       "    </tr>\n",
       "  </tbody>\n",
       "</table>\n",
       "</div>"
      ],
      "text/plain": [
       "                       jenis    genre  rating  durasi\n",
       "movie                                                \n",
       "Ada Apa dengan Cinta 2  indo  romance       4      60\n",
       "Gundala                 indo   action       3     100\n",
       "Dilan 1991              indo  romance       5      90\n",
       "Bumi Manusia            indo  romance       5      60\n",
       "Dua Garis Biru          indo  romance       1      80"
      ]
     },
     "execution_count": 5,
     "metadata": {},
     "output_type": "execute_result"
    }
   ],
   "source": [
    "df.set_index('movie', inplace=True)\n",
    "df.head()"
   ]
  },
  {
   "cell_type": "markdown",
   "metadata": {},
   "source": [
    "# Mengencoder kolom yang bertipe object"
   ]
  },
  {
   "cell_type": "code",
   "execution_count": 6,
   "metadata": {},
   "outputs": [
    {
     "data": {
      "text/html": [
       "<div>\n",
       "<style scoped>\n",
       "    .dataframe tbody tr th:only-of-type {\n",
       "        vertical-align: middle;\n",
       "    }\n",
       "\n",
       "    .dataframe tbody tr th {\n",
       "        vertical-align: top;\n",
       "    }\n",
       "\n",
       "    .dataframe thead th {\n",
       "        text-align: right;\n",
       "    }\n",
       "</style>\n",
       "<table border=\"1\" class=\"dataframe\">\n",
       "  <thead>\n",
       "    <tr style=\"text-align: right;\">\n",
       "      <th></th>\n",
       "      <th>jenis</th>\n",
       "      <th>genre</th>\n",
       "      <th>rating</th>\n",
       "      <th>durasi</th>\n",
       "    </tr>\n",
       "    <tr>\n",
       "      <th>movie</th>\n",
       "      <th></th>\n",
       "      <th></th>\n",
       "      <th></th>\n",
       "      <th></th>\n",
       "    </tr>\n",
       "  </thead>\n",
       "  <tbody>\n",
       "    <tr>\n",
       "      <th>Ada Apa dengan Cinta 2</th>\n",
       "      <td>0</td>\n",
       "      <td>2</td>\n",
       "      <td>4</td>\n",
       "      <td>60</td>\n",
       "    </tr>\n",
       "    <tr>\n",
       "      <th>Gundala</th>\n",
       "      <td>0</td>\n",
       "      <td>0</td>\n",
       "      <td>3</td>\n",
       "      <td>100</td>\n",
       "    </tr>\n",
       "    <tr>\n",
       "      <th>Dilan 1991</th>\n",
       "      <td>0</td>\n",
       "      <td>2</td>\n",
       "      <td>5</td>\n",
       "      <td>90</td>\n",
       "    </tr>\n",
       "    <tr>\n",
       "      <th>Bumi Manusia</th>\n",
       "      <td>0</td>\n",
       "      <td>2</td>\n",
       "      <td>5</td>\n",
       "      <td>60</td>\n",
       "    </tr>\n",
       "    <tr>\n",
       "      <th>Dua Garis Biru</th>\n",
       "      <td>0</td>\n",
       "      <td>2</td>\n",
       "      <td>1</td>\n",
       "      <td>80</td>\n",
       "    </tr>\n",
       "  </tbody>\n",
       "</table>\n",
       "</div>"
      ],
      "text/plain": [
       "                        jenis  genre  rating  durasi\n",
       "movie                                               \n",
       "Ada Apa dengan Cinta 2      0      2       4      60\n",
       "Gundala                     0      0       3     100\n",
       "Dilan 1991                  0      2       5      90\n",
       "Bumi Manusia                0      2       5      60\n",
       "Dua Garis Biru              0      2       1      80"
      ]
     },
     "execution_count": 6,
     "metadata": {},
     "output_type": "execute_result"
    }
   ],
   "source": [
    "from sklearn.preprocessing import LabelEncoder\n",
    "#df['movie'] = LabelEncoder().fit_transform(df['movie2'])\n",
    "df['jenis'] = LabelEncoder().fit_transform(df['jenis'])\n",
    "df['genre'] = LabelEncoder().fit_transform(df['genre'])\n",
    "df.head()"
   ]
  },
  {
   "cell_type": "markdown",
   "metadata": {},
   "source": [
    "***\n",
    "Encoder digunakan untuk mengubah data yang bertipe object menjadi data numerik\n",
    "***"
   ]
  },
  {
   "cell_type": "markdown",
   "metadata": {},
   "source": [
    "# MinMax Scaler"
   ]
  },
  {
   "cell_type": "code",
   "execution_count": 7,
   "metadata": {
    "scrolled": true
   },
   "outputs": [
    {
     "data": {
      "text/html": [
       "<div>\n",
       "<style scoped>\n",
       "    .dataframe tbody tr th:only-of-type {\n",
       "        vertical-align: middle;\n",
       "    }\n",
       "\n",
       "    .dataframe tbody tr th {\n",
       "        vertical-align: top;\n",
       "    }\n",
       "\n",
       "    .dataframe thead th {\n",
       "        text-align: right;\n",
       "    }\n",
       "</style>\n",
       "<table border=\"1\" class=\"dataframe\">\n",
       "  <thead>\n",
       "    <tr style=\"text-align: right;\">\n",
       "      <th></th>\n",
       "      <th>jenis</th>\n",
       "      <th>genre</th>\n",
       "      <th>rating</th>\n",
       "      <th>durasi</th>\n",
       "    </tr>\n",
       "  </thead>\n",
       "  <tbody>\n",
       "    <tr>\n",
       "      <th>0</th>\n",
       "      <td>0.0</td>\n",
       "      <td>1.0</td>\n",
       "      <td>0.75</td>\n",
       "      <td>0.000000</td>\n",
       "    </tr>\n",
       "    <tr>\n",
       "      <th>1</th>\n",
       "      <td>0.0</td>\n",
       "      <td>0.0</td>\n",
       "      <td>0.50</td>\n",
       "      <td>0.666667</td>\n",
       "    </tr>\n",
       "    <tr>\n",
       "      <th>2</th>\n",
       "      <td>0.0</td>\n",
       "      <td>1.0</td>\n",
       "      <td>1.00</td>\n",
       "      <td>0.500000</td>\n",
       "    </tr>\n",
       "    <tr>\n",
       "      <th>3</th>\n",
       "      <td>0.0</td>\n",
       "      <td>1.0</td>\n",
       "      <td>1.00</td>\n",
       "      <td>0.000000</td>\n",
       "    </tr>\n",
       "    <tr>\n",
       "      <th>4</th>\n",
       "      <td>0.0</td>\n",
       "      <td>1.0</td>\n",
       "      <td>0.00</td>\n",
       "      <td>0.333333</td>\n",
       "    </tr>\n",
       "    <tr>\n",
       "      <th>5</th>\n",
       "      <td>1.0</td>\n",
       "      <td>0.0</td>\n",
       "      <td>0.25</td>\n",
       "      <td>0.500000</td>\n",
       "    </tr>\n",
       "    <tr>\n",
       "      <th>6</th>\n",
       "      <td>1.0</td>\n",
       "      <td>0.5</td>\n",
       "      <td>0.75</td>\n",
       "      <td>0.666667</td>\n",
       "    </tr>\n",
       "    <tr>\n",
       "      <th>7</th>\n",
       "      <td>1.0</td>\n",
       "      <td>1.0</td>\n",
       "      <td>0.25</td>\n",
       "      <td>1.000000</td>\n",
       "    </tr>\n",
       "    <tr>\n",
       "      <th>8</th>\n",
       "      <td>1.0</td>\n",
       "      <td>0.0</td>\n",
       "      <td>0.50</td>\n",
       "      <td>0.666667</td>\n",
       "    </tr>\n",
       "    <tr>\n",
       "      <th>9</th>\n",
       "      <td>1.0</td>\n",
       "      <td>0.0</td>\n",
       "      <td>0.75</td>\n",
       "      <td>0.333333</td>\n",
       "    </tr>\n",
       "  </tbody>\n",
       "</table>\n",
       "</div>"
      ],
      "text/plain": [
       "   jenis  genre  rating    durasi\n",
       "0    0.0    1.0    0.75  0.000000\n",
       "1    0.0    0.0    0.50  0.666667\n",
       "2    0.0    1.0    1.00  0.500000\n",
       "3    0.0    1.0    1.00  0.000000\n",
       "4    0.0    1.0    0.00  0.333333\n",
       "5    1.0    0.0    0.25  0.500000\n",
       "6    1.0    0.5    0.75  0.666667\n",
       "7    1.0    1.0    0.25  1.000000\n",
       "8    1.0    0.0    0.50  0.666667\n",
       "9    1.0    0.0    0.75  0.333333"
      ]
     },
     "execution_count": 7,
     "metadata": {},
     "output_type": "execute_result"
    }
   ],
   "source": [
    "from sklearn.preprocessing import MinMaxScaler\n",
    "col2 = df.columns\n",
    "scaler = MinMaxScaler().fit_transform(df)\n",
    "df3 = pd.DataFrame(scaler, columns = col2)\n",
    "df3"
   ]
  },
  {
   "cell_type": "markdown",
   "metadata": {},
   "source": [
    "***\n",
    "MinMax Scaler digunakan untuk mentransform features menjadi nilai yang biasanya nilainya range 0 sampai 1\n",
    "<br>Hal ini dimaksudkan agar nilai yang ada pada semua feature tidak berbeda jauh gapnya\n",
    "***"
   ]
  },
  {
   "cell_type": "markdown",
   "metadata": {},
   "source": [
    "# Consine Similarity"
   ]
  },
  {
   "cell_type": "code",
   "execution_count": 8,
   "metadata": {},
   "outputs": [],
   "source": [
    "import numpy as np\n",
    "from sklearn.metrics.pairwise import cosine_similarity\n",
    "\n",
    "df_c = cosine_similarity(df3)"
   ]
  },
  {
   "cell_type": "code",
   "execution_count": 9,
   "metadata": {
    "scrolled": false
   },
   "outputs": [
    {
     "data": {
      "text/html": [
       "<div>\n",
       "<style scoped>\n",
       "    .dataframe tbody tr th:only-of-type {\n",
       "        vertical-align: middle;\n",
       "    }\n",
       "\n",
       "    .dataframe tbody tr th {\n",
       "        vertical-align: top;\n",
       "    }\n",
       "\n",
       "    .dataframe thead th {\n",
       "        text-align: right;\n",
       "    }\n",
       "</style>\n",
       "<table border=\"1\" class=\"dataframe\">\n",
       "  <thead>\n",
       "    <tr style=\"text-align: right;\">\n",
       "      <th></th>\n",
       "      <th>Ada Apa dengan Cinta 2</th>\n",
       "      <th>Gundala</th>\n",
       "      <th>Dilan 1991</th>\n",
       "      <th>Bumi Manusia</th>\n",
       "      <th>Dua Garis Biru</th>\n",
       "      <th>Avengers: End Game</th>\n",
       "      <th>The Lion King</th>\n",
       "      <th>Aladin</th>\n",
       "      <th>Spiderman: Far From Home</th>\n",
       "      <th>Captain Marvel</th>\n",
       "    </tr>\n",
       "    <tr>\n",
       "      <th>movie</th>\n",
       "      <th></th>\n",
       "      <th></th>\n",
       "      <th></th>\n",
       "      <th></th>\n",
       "      <th></th>\n",
       "      <th></th>\n",
       "      <th></th>\n",
       "      <th></th>\n",
       "      <th></th>\n",
       "      <th></th>\n",
       "    </tr>\n",
       "  </thead>\n",
       "  <tbody>\n",
       "    <tr>\n",
       "      <th>Ada Apa dengan Cinta 2</th>\n",
       "      <td>1.000000</td>\n",
       "      <td>0.360000</td>\n",
       "      <td>0.933333</td>\n",
       "      <td>0.989949</td>\n",
       "      <td>0.758947</td>\n",
       "      <td>0.130931</td>\n",
       "      <td>0.565794</td>\n",
       "      <td>0.542857</td>\n",
       "      <td>0.230466</td>\n",
       "      <td>0.347845</td>\n",
       "    </tr>\n",
       "    <tr>\n",
       "      <th>Gundala</th>\n",
       "      <td>0.360000</td>\n",
       "      <td>1.000000</td>\n",
       "      <td>0.666667</td>\n",
       "      <td>0.424264</td>\n",
       "      <td>0.252982</td>\n",
       "      <td>0.480079</td>\n",
       "      <td>0.654546</td>\n",
       "      <td>0.542857</td>\n",
       "      <td>0.640184</td>\n",
       "      <td>0.553975</td>\n",
       "    </tr>\n",
       "    <tr>\n",
       "      <th>Dilan 1991</th>\n",
       "      <td>0.933333</td>\n",
       "      <td>0.666667</td>\n",
       "      <td>1.000000</td>\n",
       "      <td>0.942809</td>\n",
       "      <td>0.737865</td>\n",
       "      <td>0.290957</td>\n",
       "      <td>0.702620</td>\n",
       "      <td>0.666667</td>\n",
       "      <td>0.426790</td>\n",
       "      <td>0.472382</td>\n",
       "    </tr>\n",
       "    <tr>\n",
       "      <th>Bumi Manusia</th>\n",
       "      <td>0.989949</td>\n",
       "      <td>0.424264</td>\n",
       "      <td>0.942809</td>\n",
       "      <td>1.000000</td>\n",
       "      <td>0.670820</td>\n",
       "      <td>0.154303</td>\n",
       "      <td>0.588348</td>\n",
       "      <td>0.505076</td>\n",
       "      <td>0.271607</td>\n",
       "      <td>0.409939</td>\n",
       "    </tr>\n",
       "    <tr>\n",
       "      <th>Dua Garis Biru</th>\n",
       "      <td>0.758947</td>\n",
       "      <td>0.252982</td>\n",
       "      <td>0.737865</td>\n",
       "      <td>0.670820</td>\n",
       "      <td>1.000000</td>\n",
       "      <td>0.138013</td>\n",
       "      <td>0.456070</td>\n",
       "      <td>0.722806</td>\n",
       "      <td>0.161955</td>\n",
       "      <td>0.081480</td>\n",
       "    </tr>\n",
       "    <tr>\n",
       "      <th>Avengers: End Game</th>\n",
       "      <td>0.130931</td>\n",
       "      <td>0.480079</td>\n",
       "      <td>0.290957</td>\n",
       "      <td>0.154303</td>\n",
       "      <td>0.138013</td>\n",
       "      <td>1.000000</td>\n",
       "      <td>0.883632</td>\n",
       "      <td>0.779350</td>\n",
       "      <td>0.977898</td>\n",
       "      <td>0.913682</td>\n",
       "    </tr>\n",
       "    <tr>\n",
       "      <th>The Lion King</th>\n",
       "      <td>0.565794</td>\n",
       "      <td>0.654546</td>\n",
       "      <td>0.702620</td>\n",
       "      <td>0.588348</td>\n",
       "      <td>0.456070</td>\n",
       "      <td>0.883632</td>\n",
       "      <td>1.000000</td>\n",
       "      <td>0.895445</td>\n",
       "      <td>0.930389</td>\n",
       "      <td>0.918296</td>\n",
       "    </tr>\n",
       "    <tr>\n",
       "      <th>Aladin</th>\n",
       "      <td>0.542857</td>\n",
       "      <td>0.542857</td>\n",
       "      <td>0.666667</td>\n",
       "      <td>0.505076</td>\n",
       "      <td>0.722806</td>\n",
       "      <td>0.779350</td>\n",
       "      <td>0.895445</td>\n",
       "      <td>1.000000</td>\n",
       "      <td>0.786512</td>\n",
       "      <td>0.671763</td>\n",
       "    </tr>\n",
       "    <tr>\n",
       "      <th>Spiderman: Far From Home</th>\n",
       "      <td>0.230466</td>\n",
       "      <td>0.640184</td>\n",
       "      <td>0.426790</td>\n",
       "      <td>0.271607</td>\n",
       "      <td>0.161955</td>\n",
       "      <td>0.977898</td>\n",
       "      <td>0.930389</td>\n",
       "      <td>0.786512</td>\n",
       "      <td>1.000000</td>\n",
       "      <td>0.948472</td>\n",
       "    </tr>\n",
       "    <tr>\n",
       "      <th>Captain Marvel</th>\n",
       "      <td>0.347845</td>\n",
       "      <td>0.553975</td>\n",
       "      <td>0.472382</td>\n",
       "      <td>0.409939</td>\n",
       "      <td>0.081480</td>\n",
       "      <td>0.913682</td>\n",
       "      <td>0.918296</td>\n",
       "      <td>0.671763</td>\n",
       "      <td>0.948472</td>\n",
       "      <td>1.000000</td>\n",
       "    </tr>\n",
       "  </tbody>\n",
       "</table>\n",
       "</div>"
      ],
      "text/plain": [
       "                          Ada Apa dengan Cinta 2   Gundala  Dilan 1991  \\\n",
       "movie                                                                    \n",
       "Ada Apa dengan Cinta 2                  1.000000  0.360000    0.933333   \n",
       "Gundala                                 0.360000  1.000000    0.666667   \n",
       "Dilan 1991                              0.933333  0.666667    1.000000   \n",
       "Bumi Manusia                            0.989949  0.424264    0.942809   \n",
       "Dua Garis Biru                          0.758947  0.252982    0.737865   \n",
       "Avengers: End Game                      0.130931  0.480079    0.290957   \n",
       "The Lion King                           0.565794  0.654546    0.702620   \n",
       "Aladin                                  0.542857  0.542857    0.666667   \n",
       "Spiderman: Far From Home                0.230466  0.640184    0.426790   \n",
       "Captain Marvel                          0.347845  0.553975    0.472382   \n",
       "\n",
       "                          Bumi Manusia  Dua Garis Biru  Avengers: End Game  \\\n",
       "movie                                                                        \n",
       "Ada Apa dengan Cinta 2        0.989949        0.758947            0.130931   \n",
       "Gundala                       0.424264        0.252982            0.480079   \n",
       "Dilan 1991                    0.942809        0.737865            0.290957   \n",
       "Bumi Manusia                  1.000000        0.670820            0.154303   \n",
       "Dua Garis Biru                0.670820        1.000000            0.138013   \n",
       "Avengers: End Game            0.154303        0.138013            1.000000   \n",
       "The Lion King                 0.588348        0.456070            0.883632   \n",
       "Aladin                        0.505076        0.722806            0.779350   \n",
       "Spiderman: Far From Home      0.271607        0.161955            0.977898   \n",
       "Captain Marvel                0.409939        0.081480            0.913682   \n",
       "\n",
       "                          The Lion King    Aladin  Spiderman: Far From Home  \\\n",
       "movie                                                                         \n",
       "Ada Apa dengan Cinta 2         0.565794  0.542857                  0.230466   \n",
       "Gundala                        0.654546  0.542857                  0.640184   \n",
       "Dilan 1991                     0.702620  0.666667                  0.426790   \n",
       "Bumi Manusia                   0.588348  0.505076                  0.271607   \n",
       "Dua Garis Biru                 0.456070  0.722806                  0.161955   \n",
       "Avengers: End Game             0.883632  0.779350                  0.977898   \n",
       "The Lion King                  1.000000  0.895445                  0.930389   \n",
       "Aladin                         0.895445  1.000000                  0.786512   \n",
       "Spiderman: Far From Home       0.930389  0.786512                  1.000000   \n",
       "Captain Marvel                 0.918296  0.671763                  0.948472   \n",
       "\n",
       "                          Captain Marvel  \n",
       "movie                                     \n",
       "Ada Apa dengan Cinta 2          0.347845  \n",
       "Gundala                         0.553975  \n",
       "Dilan 1991                      0.472382  \n",
       "Bumi Manusia                    0.409939  \n",
       "Dua Garis Biru                  0.081480  \n",
       "Avengers: End Game              0.913682  \n",
       "The Lion King                   0.918296  \n",
       "Aladin                          0.671763  \n",
       "Spiderman: Far From Home        0.948472  \n",
       "Captain Marvel                  1.000000  "
      ]
     },
     "execution_count": 9,
     "metadata": {},
     "output_type": "execute_result"
    }
   ],
   "source": [
    "df_a = pd.DataFrame(df_c,columns = film)\n",
    "df_a['movie'] = film\n",
    "df_a.set_index('movie', inplace=True)\n",
    "df_a"
   ]
  },
  {
   "cell_type": "markdown",
   "metadata": {},
   "source": [
    "***\n",
    "Consine similarity digunakan untuk mencari similarity setiap movie berdasarkan feature feature yang ada pada setiap movie\n",
    "<br> semakin mendekati 1 nilai similaritynya berarti kedua movie tersebut sangat berkorelasi \n",
    "***"
   ]
  },
  {
   "cell_type": "markdown",
   "metadata": {},
   "source": [
    "# Menampilkan korelasi movie dalam heatmap"
   ]
  },
  {
   "cell_type": "code",
   "execution_count": 11,
   "metadata": {},
   "outputs": [
    {
     "data": {
      "text/plain": [
       "<matplotlib.axes._subplots.AxesSubplot at 0x23a64e71278>"
      ]
     },
     "execution_count": 11,
     "metadata": {},
     "output_type": "execute_result"
    },
    {
     "data": {
      "image/png": "[encoded data removed]",
      "text/plain": [
       "<Figure size 1008x504 with 2 Axes>"
      ]
     },
     "metadata": {},
     "output_type": "display_data"
    }
   ],
   "source": [
    "import seaborn as sns\n",
    "import matplotlib.pyplot as plt\n",
    "\n",
    "plt.figure(figsize = (14,7))\n",
    "sns.heatmap(df_a, annot=True)"
   ]
  },
  {
   "cell_type": "markdown",
   "metadata": {},
   "source": [
    "# Urutan Film yang direkomendasikan"
   ]
  },
  {
   "cell_type": "code",
   "execution_count": 12,
   "metadata": {},
   "outputs": [
    {
     "data": {
      "text/html": [
       "<div>\n",
       "<style scoped>\n",
       "    .dataframe tbody tr th:only-of-type {\n",
       "        vertical-align: middle;\n",
       "    }\n",
       "\n",
       "    .dataframe tbody tr th {\n",
       "        vertical-align: top;\n",
       "    }\n",
       "\n",
       "    .dataframe thead th {\n",
       "        text-align: right;\n",
       "    }\n",
       "</style>\n",
       "<table border=\"1\" class=\"dataframe\">\n",
       "  <thead>\n",
       "    <tr style=\"text-align: right;\">\n",
       "      <th></th>\n",
       "      <th>Ada Apa dengan Cinta 2</th>\n",
       "    </tr>\n",
       "    <tr>\n",
       "      <th>movie</th>\n",
       "      <th></th>\n",
       "    </tr>\n",
       "  </thead>\n",
       "  <tbody>\n",
       "    <tr>\n",
       "      <th>Bumi Manusia</th>\n",
       "      <td>0.989949</td>\n",
       "    </tr>\n",
       "    <tr>\n",
       "      <th>Dilan 1991</th>\n",
       "      <td>0.933333</td>\n",
       "    </tr>\n",
       "    <tr>\n",
       "      <th>Dua Garis Biru</th>\n",
       "      <td>0.758947</td>\n",
       "    </tr>\n",
       "    <tr>\n",
       "      <th>The Lion King</th>\n",
       "      <td>0.565794</td>\n",
       "    </tr>\n",
       "    <tr>\n",
       "      <th>Aladin</th>\n",
       "      <td>0.542857</td>\n",
       "    </tr>\n",
       "    <tr>\n",
       "      <th>Gundala</th>\n",
       "      <td>0.360000</td>\n",
       "    </tr>\n",
       "    <tr>\n",
       "      <th>Captain Marvel</th>\n",
       "      <td>0.347845</td>\n",
       "    </tr>\n",
       "    <tr>\n",
       "      <th>Spiderman: Far From Home</th>\n",
       "      <td>0.230466</td>\n",
       "    </tr>\n",
       "    <tr>\n",
       "      <th>Avengers: End Game</th>\n",
       "      <td>0.130931</td>\n",
       "    </tr>\n",
       "  </tbody>\n",
       "</table>\n",
       "</div>"
      ],
      "text/plain": [
       "                          Ada Apa dengan Cinta 2\n",
       "movie                                           \n",
       "Bumi Manusia                            0.989949\n",
       "Dilan 1991                              0.933333\n",
       "Dua Garis Biru                          0.758947\n",
       "The Lion King                           0.565794\n",
       "Aladin                                  0.542857\n",
       "Gundala                                 0.360000\n",
       "Captain Marvel                          0.347845\n",
       "Spiderman: Far From Home                0.230466\n",
       "Avengers: End Game                      0.130931"
      ]
     },
     "execution_count": 12,
     "metadata": {},
     "output_type": "execute_result"
    }
   ],
   "source": [
    "final_result = df_a[[USER_MOVIE]]\n",
    "final_result = final_result[[USER_MOVIE]].loc[(final_result[USER_MOVIE]<1)]\n",
    "final_result = final_result.sort_values(by=USER_MOVIE, ascending=False)\n",
    "final_result"
   ]
  },
  {
   "cell_type": "markdown",
   "metadata": {},
   "source": [
    "***\n",
    "Urutan film dari yang paling direkomendasikan sampai yang kurang direkomendasikan untuk user dapat dilihat pada tabel diatas. <br>Terlihat bahwa setelah menonton ada apa dengan cinta 2, user sangat direkomendasikan menonton film Bumi Manusia\n",
    "***"
   ]
  },
  {
   "cell_type": "markdown",
   "metadata": {},
   "source": [
    "# FIlm yang paling direkomendasikan"
   ]
  },
  {
   "cell_type": "code",
   "execution_count": 13,
   "metadata": {},
   "outputs": [
    {
     "name": "stdout",
     "output_type": "stream",
     "text": [
      "Film yang direkomendasikan setelah Ada Apa dengan Cinta 2 adalah ['Bumi Manusia']\n"
     ]
    }
   ],
   "source": [
    "top_recomend = final_result.head(1)\n",
    "top_recomend = top_recomend.reset_index()\n",
    "top_recomend = top_recomend['movie'].tolist()\n",
    "print ('Film yang direkomendasikan setelah', USER_MOVIE,'adalah', top_recomend)"
   ]
  },
  {
   "cell_type": "markdown",
   "metadata": {},
   "source": [
    "# Kesimpulan\n",
    "**Content Based Filtering** merekomendasikan film berdasarkan similarity dari feature film yang direkomendasikan dengan feature film yang telah ditonton user sebelumnya. pada case ini similarity dari masing masing movie dilihat dari similarity jenis, genre, rating, durasi dari masing-masing film.\n",
    "<br>pada case ini Jika user telah menonton film **Ada Apa dengan Cinta 2**, maka rekomendasi film selanjutnya untuk user adalah **Bumi Manusia**"
   ]
  }
 ],
 "metadata": {
  "kernelspec": {
   "display_name": "Python 3",
   "language": "python",
   "name": "python3"
  },
  "language_info": {
   "codemirror_mode": {
    "name": "ipython",
    "version": 3
   },
   "file_extension": ".py",
   "mimetype": "text/x-python",
   "name": "python",
   "nbconvert_exporter": "python",
   "pygments_lexer": "ipython3",
   "version": "3.6.9"
  }
 },
 "nbformat": 4,
 "nbformat_minor": 2
}
